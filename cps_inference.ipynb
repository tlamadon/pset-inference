{
 "cells": [
  {
   "cell_type": "markdown",
   "metadata": {},
   "source": [
    "# Pset on Inference\n",
    "\n",
    "[Download notebook :fontawesome-solid-download:](../cps_inference.ipynb){: .md-button .md-button--primary download=\"cps_inference.ipynb\"}\n",
    "\n",
    "Goal of the problem set:\n",
    "\n",
    " - understand heteroskedasticity and clustered standard errors\n",
    " - familiarize yourself with `pandas`, grouping and formating\n",
    " - [TBD] learn about `numba` to accelerate your code for large data-sets\n",
    " \n",
    "some useful references:\n",
    "\n",
    " - [OLS in python](https://www.statsmodels.org/dev/examples/notebooks/generated/ols.html)\n",
    " - [OLS with formulas](https://www.statsmodels.org/devel/example_formulas.html)\n",
    " - [pandas transorm](https://pandas.pydata.org/pandas-docs/stable/reference/api/pandas.DataFrame.transform.html)\n",
    " - [method chaining in pandas](https://tomaugspurger.github.io/method-chaining.html)\n",
    " - [progress bars](https://tqdm.github.io/)\n",
    " \n",
    "We are going to reproduce an exercise similar to the example for the computation of standard error.  Start by downloading the CPS data from [here](http://cameron.econ.ucdavis.edu/research/cameron_miller_JHR_files%20to%20share.zip).  We first load the needed libraries, my solutions wich are hidden to you and the data."
   ]
  },
  {
   "cell_type": "code",
   "execution_count": 2,
   "metadata": {
    "ExecuteTime": {
     "end_time": "2021-09-20T17:03:39.191241Z",
     "start_time": "2021-09-20T17:03:38.200064Z"
    }
   },
   "outputs": [
    {
     "name": "stdout",
     "output_type": "stream",
     "text": [
      "/home/tlamadon/git/econ-21340\n"
     ]
    }
   ],
   "source": [
    "%cd ..\n",
    "%load_ext autoreload\n",
    "%autoreload 2\n",
    "from solutions.sol_pset2 import *\n",
    "import pandas as pd\n",
    "import numpy as np\n",
    "import matplotlib.pylab as plt\n",
    "from tqdm import tqdm\n"
   ]
  },
  {
   "cell_type": "code",
   "execution_count": 3,
   "metadata": {
    "ExecuteTime": {
     "end_time": "2021-09-20T17:03:39.287305Z",
     "start_time": "2021-09-20T17:03:39.192229Z"
    }
   },
   "outputs": [],
   "source": [
    "data = pd.read_stata(\"data/CPS_2012_micro.dta\")"
   ]
  },
  {
   "cell_type": "markdown",
   "metadata": {},
   "source": [
    "Next generate a fictuous policy that you randomly assigned at the state times gender level. Run the regression and report standard errors given by R for one draw of the poilcy."
   ]
  },
  {
   "cell_type": "code",
   "execution_count": 5,
   "metadata": {
    "ExecuteTime": {
     "end_time": "2021-09-20T17:03:39.288338Z",
     "start_time": "2021-09-20T17:03:38.200Z"
    },
    "scrolled": false
   },
   "outputs": [
    {
     "data": {
      "text/html": [
       "<div>\n",
       "<style scoped>\n",
       "    .dataframe tbody tr th:only-of-type {\n",
       "        vertical-align: middle;\n",
       "    }\n",
       "\n",
       "    .dataframe tbody tr th {\n",
       "        vertical-align: top;\n",
       "    }\n",
       "\n",
       "    .dataframe thead th {\n",
       "        text-align: right;\n",
       "    }\n",
       "</style>\n",
       "<table border=\"1\" class=\"dataframe\">\n",
       "  <thead>\n",
       "    <tr style=\"text-align: right;\">\n",
       "      <th></th>\n",
       "      <th>year</th>\n",
       "      <th>statefip</th>\n",
       "      <th>wtsupp</th>\n",
       "      <th>age</th>\n",
       "      <th>sex</th>\n",
       "      <th>yrseduc</th>\n",
       "      <th>wage_per_hour</th>\n",
       "      <th>lnwage</th>\n",
       "      <th>age2</th>\n",
       "      <th>fp</th>\n",
       "    </tr>\n",
       "  </thead>\n",
       "  <tbody>\n",
       "    <tr>\n",
       "      <th>0</th>\n",
       "      <td>2012</td>\n",
       "      <td>Maine</td>\n",
       "      <td>569.43</td>\n",
       "      <td>44</td>\n",
       "      <td>Female</td>\n",
       "      <td>14.0</td>\n",
       "      <td>7.020000</td>\n",
       "      <td>1.948763</td>\n",
       "      <td>1936.0</td>\n",
       "      <td>True</td>\n",
       "    </tr>\n",
       "    <tr>\n",
       "      <th>1</th>\n",
       "      <td>2012</td>\n",
       "      <td>Maine</td>\n",
       "      <td>595.47</td>\n",
       "      <td>25</td>\n",
       "      <td>Male</td>\n",
       "      <td>16.0</td>\n",
       "      <td>2.117143</td>\n",
       "      <td>0.750067</td>\n",
       "      <td>625.0</td>\n",
       "      <td>True</td>\n",
       "    </tr>\n",
       "    <tr>\n",
       "      <th>2</th>\n",
       "      <td>2012</td>\n",
       "      <td>Maine</td>\n",
       "      <td>635.66</td>\n",
       "      <td>61</td>\n",
       "      <td>Female</td>\n",
       "      <td>16.0</td>\n",
       "      <td>16.672501</td>\n",
       "      <td>2.813761</td>\n",
       "      <td>3721.0</td>\n",
       "      <td>True</td>\n",
       "    </tr>\n",
       "    <tr>\n",
       "      <th>3</th>\n",
       "      <td>2012</td>\n",
       "      <td>Maine</td>\n",
       "      <td>635.66</td>\n",
       "      <td>62</td>\n",
       "      <td>Male</td>\n",
       "      <td>16.0</td>\n",
       "      <td>17.784000</td>\n",
       "      <td>2.878299</td>\n",
       "      <td>3844.0</td>\n",
       "      <td>True</td>\n",
       "    </tr>\n",
       "    <tr>\n",
       "      <th>4</th>\n",
       "      <td>2012</td>\n",
       "      <td>Maine</td>\n",
       "      <td>513.39</td>\n",
       "      <td>25</td>\n",
       "      <td>Female</td>\n",
       "      <td>12.0</td>\n",
       "      <td>9.633000</td>\n",
       "      <td>2.265195</td>\n",
       "      <td>625.0</td>\n",
       "      <td>True</td>\n",
       "    </tr>\n",
       "    <tr>\n",
       "      <th>...</th>\n",
       "      <td>...</td>\n",
       "      <td>...</td>\n",
       "      <td>...</td>\n",
       "      <td>...</td>\n",
       "      <td>...</td>\n",
       "      <td>...</td>\n",
       "      <td>...</td>\n",
       "      <td>...</td>\n",
       "      <td>...</td>\n",
       "      <td>...</td>\n",
       "    </tr>\n",
       "    <tr>\n",
       "      <th>65680</th>\n",
       "      <td>2012</td>\n",
       "      <td>Hawaii</td>\n",
       "      <td>282.87</td>\n",
       "      <td>24</td>\n",
       "      <td>Male</td>\n",
       "      <td>16.0</td>\n",
       "      <td>28.899000</td>\n",
       "      <td>3.363807</td>\n",
       "      <td>576.0</td>\n",
       "      <td>False</td>\n",
       "    </tr>\n",
       "    <tr>\n",
       "      <th>65681</th>\n",
       "      <td>2012</td>\n",
       "      <td>Hawaii</td>\n",
       "      <td>362.23</td>\n",
       "      <td>49</td>\n",
       "      <td>Male</td>\n",
       "      <td>18.0</td>\n",
       "      <td>18.525000</td>\n",
       "      <td>2.919121</td>\n",
       "      <td>2401.0</td>\n",
       "      <td>False</td>\n",
       "    </tr>\n",
       "    <tr>\n",
       "      <th>65682</th>\n",
       "      <td>2012</td>\n",
       "      <td>Hawaii</td>\n",
       "      <td>362.23</td>\n",
       "      <td>44</td>\n",
       "      <td>Female</td>\n",
       "      <td>20.0</td>\n",
       "      <td>18.525000</td>\n",
       "      <td>2.919121</td>\n",
       "      <td>1936.0</td>\n",
       "      <td>False</td>\n",
       "    </tr>\n",
       "    <tr>\n",
       "      <th>65683</th>\n",
       "      <td>2012</td>\n",
       "      <td>Hawaii</td>\n",
       "      <td>282.87</td>\n",
       "      <td>28</td>\n",
       "      <td>Male</td>\n",
       "      <td>18.0</td>\n",
       "      <td>24.082500</td>\n",
       "      <td>3.181485</td>\n",
       "      <td>784.0</td>\n",
       "      <td>False</td>\n",
       "    </tr>\n",
       "    <tr>\n",
       "      <th>65684</th>\n",
       "      <td>2012</td>\n",
       "      <td>Hawaii</td>\n",
       "      <td>282.87</td>\n",
       "      <td>28</td>\n",
       "      <td>Female</td>\n",
       "      <td>18.0</td>\n",
       "      <td>11.856000</td>\n",
       "      <td>2.472834</td>\n",
       "      <td>784.0</td>\n",
       "      <td>False</td>\n",
       "    </tr>\n",
       "  </tbody>\n",
       "</table>\n",
       "<p>65685 rows × 10 columns</p>\n",
       "</div>"
      ],
      "text/plain": [
       "       year statefip  wtsupp age     sex  yrseduc  wage_per_hour    lnwage  \\\n",
       "0      2012    Maine  569.43  44  Female     14.0       7.020000  1.948763   \n",
       "1      2012    Maine  595.47  25    Male     16.0       2.117143  0.750067   \n",
       "2      2012    Maine  635.66  61  Female     16.0      16.672501  2.813761   \n",
       "3      2012    Maine  635.66  62    Male     16.0      17.784000  2.878299   \n",
       "4      2012    Maine  513.39  25  Female     12.0       9.633000  2.265195   \n",
       "...     ...      ...     ...  ..     ...      ...            ...       ...   \n",
       "65680  2012   Hawaii  282.87  24    Male     16.0      28.899000  3.363807   \n",
       "65681  2012   Hawaii  362.23  49    Male     18.0      18.525000  2.919121   \n",
       "65682  2012   Hawaii  362.23  44  Female     20.0      18.525000  2.919121   \n",
       "65683  2012   Hawaii  282.87  28    Male     18.0      24.082500  3.181485   \n",
       "65684  2012   Hawaii  282.87  28  Female     18.0      11.856000  2.472834   \n",
       "\n",
       "         age2     fp  \n",
       "0      1936.0   True  \n",
       "1       625.0   True  \n",
       "2      3721.0   True  \n",
       "3      3844.0   True  \n",
       "4       625.0   True  \n",
       "...       ...    ...  \n",
       "65680   576.0  False  \n",
       "65681  2401.0  False  \n",
       "65682  1936.0  False  \n",
       "65683   784.0  False  \n",
       "65684   784.0  False  \n",
       "\n",
       "[65685 rows x 10 columns]"
      ]
     },
     "execution_count": 5,
     "metadata": {},
     "output_type": "execute_result"
    }
   ],
   "source": [
    "np.random.seed(60356548) # I fix the seed to make sure the draws are reproducible\n",
    "\n",
    "# we draw the policy for each state\n",
    "fpol = { k:np.random.uniform() > 0.5 for k in np.unique(data['statefip']) }\n",
    "data['fp'] = data['statefip'].map(fpol)\n",
    "\n",
    "data"
   ]
  },
  {
   "cell_type": "markdown",
   "metadata": {},
   "source": [
    "!!! question \"Question 1\"\n",
    "    As an exercise to get acquainted with pandas, here I would like for you to implement the following procedure:\n",
    "    \n",
    "1. compute the average wage in each state for each age decile (less than 20, betwen 20 and 30, ...)\n",
    "2. [pivot](https://pandas.pydata.org/pandas-docs/stable/reference/api/pandas.pivot_table.html) the table with states in rows and age deciles in columns\n",
    "3. using [pandas styling](https://pandas.pydata.org/pandas-docs/stable/user_guide/style.html), I want you to highlight the lowest wage in each age decile and I want you to format the average wage with onely 2 decimal points.\n"
   ]
  },
  {
   "cell_type": "code",
   "execution_count": 6,
   "metadata": {
    "ExecuteTime": {
     "end_time": "2021-09-20T17:03:39.288743Z",
     "start_time": "2021-09-20T17:03:38.200Z"
    }
   },
   "outputs": [
    {
     "data": {
      "text/html": [
       "<style type=\"text/css\">\n",
       "#T_d48b2_row12_col5, #T_d48b2_row24_col4, #T_d48b2_row26_col0, #T_d48b2_row40_col1, #T_d48b2_row40_col2, #T_d48b2_row40_col3 {\n",
       "  background-color: yellow;\n",
       "}\n",
       "</style>\n",
       "<table id=\"T_d48b2_\">\n",
       "  <thead>\n",
       "    <tr>\n",
       "      <th class=\"index_name level0\" >age_grp</th>\n",
       "      <th class=\"col_heading level0 col0\" >20.0</th>\n",
       "      <th class=\"col_heading level0 col1\" >30.0</th>\n",
       "      <th class=\"col_heading level0 col2\" >40.0</th>\n",
       "      <th class=\"col_heading level0 col3\" >50.0</th>\n",
       "      <th class=\"col_heading level0 col4\" >60.0</th>\n",
       "      <th class=\"col_heading level0 col5\" >70.0</th>\n",
       "    </tr>\n",
       "    <tr>\n",
       "      <th class=\"index_name level0\" >statefip</th>\n",
       "      <th class=\"blank col0\" >&nbsp;</th>\n",
       "      <th class=\"blank col1\" >&nbsp;</th>\n",
       "      <th class=\"blank col2\" >&nbsp;</th>\n",
       "      <th class=\"blank col3\" >&nbsp;</th>\n",
       "      <th class=\"blank col4\" >&nbsp;</th>\n",
       "      <th class=\"blank col5\" >&nbsp;</th>\n",
       "    </tr>\n",
       "  </thead>\n",
       "  <tbody>\n",
       "    <tr>\n",
       "      <th id=\"T_d48b2_level0_row0\" class=\"row_heading level0 row0\" >Alabama</th>\n",
       "      <td id=\"T_d48b2_row0_col0\" class=\"data row0 col0\" >8.20</td>\n",
       "      <td id=\"T_d48b2_row0_col1\" class=\"data row0 col1\" >11.33</td>\n",
       "      <td id=\"T_d48b2_row0_col2\" class=\"data row0 col2\" >15.50</td>\n",
       "      <td id=\"T_d48b2_row0_col3\" class=\"data row0 col3\" >19.39</td>\n",
       "      <td id=\"T_d48b2_row0_col4\" class=\"data row0 col4\" >17.38</td>\n",
       "      <td id=\"T_d48b2_row0_col5\" class=\"data row0 col5\" >15.21</td>\n",
       "    </tr>\n",
       "    <tr>\n",
       "      <th id=\"T_d48b2_level0_row1\" class=\"row_heading level0 row1\" >Alaska</th>\n",
       "      <td id=\"T_d48b2_row1_col0\" class=\"data row1 col0\" >8.68</td>\n",
       "      <td id=\"T_d48b2_row1_col1\" class=\"data row1 col1\" >14.14</td>\n",
       "      <td id=\"T_d48b2_row1_col2\" class=\"data row1 col2\" >19.92</td>\n",
       "      <td id=\"T_d48b2_row1_col3\" class=\"data row1 col3\" >19.59</td>\n",
       "      <td id=\"T_d48b2_row1_col4\" class=\"data row1 col4\" >20.67</td>\n",
       "      <td id=\"T_d48b2_row1_col5\" class=\"data row1 col5\" >20.46</td>\n",
       "    </tr>\n",
       "    <tr>\n",
       "      <th id=\"T_d48b2_level0_row2\" class=\"row_heading level0 row2\" >Arizona</th>\n",
       "      <td id=\"T_d48b2_row2_col0\" class=\"data row2 col0\" >9.76</td>\n",
       "      <td id=\"T_d48b2_row2_col1\" class=\"data row2 col1\" >11.97</td>\n",
       "      <td id=\"T_d48b2_row2_col2\" class=\"data row2 col2\" >16.55</td>\n",
       "      <td id=\"T_d48b2_row2_col3\" class=\"data row2 col3\" >18.63</td>\n",
       "      <td id=\"T_d48b2_row2_col4\" class=\"data row2 col4\" >18.46</td>\n",
       "      <td id=\"T_d48b2_row2_col5\" class=\"data row2 col5\" >21.30</td>\n",
       "    </tr>\n",
       "    <tr>\n",
       "      <th id=\"T_d48b2_level0_row3\" class=\"row_heading level0 row3\" >Arkansas</th>\n",
       "      <td id=\"T_d48b2_row3_col0\" class=\"data row3 col0\" >6.52</td>\n",
       "      <td id=\"T_d48b2_row3_col1\" class=\"data row3 col1\" >12.47</td>\n",
       "      <td id=\"T_d48b2_row3_col2\" class=\"data row3 col2\" >14.95</td>\n",
       "      <td id=\"T_d48b2_row3_col3\" class=\"data row3 col3\" >17.36</td>\n",
       "      <td id=\"T_d48b2_row3_col4\" class=\"data row3 col4\" >16.13</td>\n",
       "      <td id=\"T_d48b2_row3_col5\" class=\"data row3 col5\" >14.26</td>\n",
       "    </tr>\n",
       "    <tr>\n",
       "      <th id=\"T_d48b2_level0_row4\" class=\"row_heading level0 row4\" >California</th>\n",
       "      <td id=\"T_d48b2_row4_col0\" class=\"data row4 col0\" >8.52</td>\n",
       "      <td id=\"T_d48b2_row4_col1\" class=\"data row4 col1\" >12.82</td>\n",
       "      <td id=\"T_d48b2_row4_col2\" class=\"data row4 col2\" >18.98</td>\n",
       "      <td id=\"T_d48b2_row4_col3\" class=\"data row4 col3\" >20.55</td>\n",
       "      <td id=\"T_d48b2_row4_col4\" class=\"data row4 col4\" >21.52</td>\n",
       "      <td id=\"T_d48b2_row4_col5\" class=\"data row4 col5\" >21.34</td>\n",
       "    </tr>\n",
       "    <tr>\n",
       "      <th id=\"T_d48b2_level0_row5\" class=\"row_heading level0 row5\" >Colorado</th>\n",
       "      <td id=\"T_d48b2_row5_col0\" class=\"data row5 col0\" >9.63</td>\n",
       "      <td id=\"T_d48b2_row5_col1\" class=\"data row5 col1\" >12.35</td>\n",
       "      <td id=\"T_d48b2_row5_col2\" class=\"data row5 col2\" >19.19</td>\n",
       "      <td id=\"T_d48b2_row5_col3\" class=\"data row5 col3\" >21.00</td>\n",
       "      <td id=\"T_d48b2_row5_col4\" class=\"data row5 col4\" >21.80</td>\n",
       "      <td id=\"T_d48b2_row5_col5\" class=\"data row5 col5\" >21.29</td>\n",
       "    </tr>\n",
       "    <tr>\n",
       "      <th id=\"T_d48b2_level0_row6\" class=\"row_heading level0 row6\" >Connecticut</th>\n",
       "      <td id=\"T_d48b2_row6_col0\" class=\"data row6 col0\" >6.79</td>\n",
       "      <td id=\"T_d48b2_row6_col1\" class=\"data row6 col1\" >13.29</td>\n",
       "      <td id=\"T_d48b2_row6_col2\" class=\"data row6 col2\" >20.98</td>\n",
       "      <td id=\"T_d48b2_row6_col3\" class=\"data row6 col3\" >24.64</td>\n",
       "      <td id=\"T_d48b2_row6_col4\" class=\"data row6 col4\" >25.11</td>\n",
       "      <td id=\"T_d48b2_row6_col5\" class=\"data row6 col5\" >20.69</td>\n",
       "    </tr>\n",
       "    <tr>\n",
       "      <th id=\"T_d48b2_level0_row7\" class=\"row_heading level0 row7\" >Delaware</th>\n",
       "      <td id=\"T_d48b2_row7_col0\" class=\"data row7 col0\" >6.05</td>\n",
       "      <td id=\"T_d48b2_row7_col1\" class=\"data row7 col1\" >12.61</td>\n",
       "      <td id=\"T_d48b2_row7_col2\" class=\"data row7 col2\" >17.07</td>\n",
       "      <td id=\"T_d48b2_row7_col3\" class=\"data row7 col3\" >19.70</td>\n",
       "      <td id=\"T_d48b2_row7_col4\" class=\"data row7 col4\" >17.89</td>\n",
       "      <td id=\"T_d48b2_row7_col5\" class=\"data row7 col5\" >20.10</td>\n",
       "    </tr>\n",
       "    <tr>\n",
       "      <th id=\"T_d48b2_level0_row8\" class=\"row_heading level0 row8\" >District of Columbia</th>\n",
       "      <td id=\"T_d48b2_row8_col0\" class=\"data row8 col0\" >10.24</td>\n",
       "      <td id=\"T_d48b2_row8_col1\" class=\"data row8 col1\" >17.36</td>\n",
       "      <td id=\"T_d48b2_row8_col2\" class=\"data row8 col2\" >26.19</td>\n",
       "      <td id=\"T_d48b2_row8_col3\" class=\"data row8 col3\" >25.80</td>\n",
       "      <td id=\"T_d48b2_row8_col4\" class=\"data row8 col4\" >25.35</td>\n",
       "      <td id=\"T_d48b2_row8_col5\" class=\"data row8 col5\" >29.54</td>\n",
       "    </tr>\n",
       "    <tr>\n",
       "      <th id=\"T_d48b2_level0_row9\" class=\"row_heading level0 row9\" >Florida</th>\n",
       "      <td id=\"T_d48b2_row9_col0\" class=\"data row9 col0\" >7.42</td>\n",
       "      <td id=\"T_d48b2_row9_col1\" class=\"data row9 col1\" >11.93</td>\n",
       "      <td id=\"T_d48b2_row9_col2\" class=\"data row9 col2\" >16.08</td>\n",
       "      <td id=\"T_d48b2_row9_col3\" class=\"data row9 col3\" >18.60</td>\n",
       "      <td id=\"T_d48b2_row9_col4\" class=\"data row9 col4\" >18.95</td>\n",
       "      <td id=\"T_d48b2_row9_col5\" class=\"data row9 col5\" >17.42</td>\n",
       "    </tr>\n",
       "    <tr>\n",
       "      <th id=\"T_d48b2_level0_row10\" class=\"row_heading level0 row10\" >Georgia</th>\n",
       "      <td id=\"T_d48b2_row10_col0\" class=\"data row10 col0\" >7.84</td>\n",
       "      <td id=\"T_d48b2_row10_col1\" class=\"data row10 col1\" >12.52</td>\n",
       "      <td id=\"T_d48b2_row10_col2\" class=\"data row10 col2\" >17.03</td>\n",
       "      <td id=\"T_d48b2_row10_col3\" class=\"data row10 col3\" >19.88</td>\n",
       "      <td id=\"T_d48b2_row10_col4\" class=\"data row10 col4\" >19.21</td>\n",
       "      <td id=\"T_d48b2_row10_col5\" class=\"data row10 col5\" >15.75</td>\n",
       "    </tr>\n",
       "    <tr>\n",
       "      <th id=\"T_d48b2_level0_row11\" class=\"row_heading level0 row11\" >Hawaii</th>\n",
       "      <td id=\"T_d48b2_row11_col0\" class=\"data row11 col0\" >10.73</td>\n",
       "      <td id=\"T_d48b2_row11_col1\" class=\"data row11 col1\" >11.90</td>\n",
       "      <td id=\"T_d48b2_row11_col2\" class=\"data row11 col2\" >17.18</td>\n",
       "      <td id=\"T_d48b2_row11_col3\" class=\"data row11 col3\" >18.53</td>\n",
       "      <td id=\"T_d48b2_row11_col4\" class=\"data row11 col4\" >18.68</td>\n",
       "      <td id=\"T_d48b2_row11_col5\" class=\"data row11 col5\" >19.63</td>\n",
       "    </tr>\n",
       "    <tr>\n",
       "      <th id=\"T_d48b2_level0_row12\" class=\"row_heading level0 row12\" >Idaho</th>\n",
       "      <td id=\"T_d48b2_row12_col0\" class=\"data row12 col0\" >6.17</td>\n",
       "      <td id=\"T_d48b2_row12_col1\" class=\"data row12 col1\" >11.31</td>\n",
       "      <td id=\"T_d48b2_row12_col2\" class=\"data row12 col2\" >16.17</td>\n",
       "      <td id=\"T_d48b2_row12_col3\" class=\"data row12 col3\" >17.45</td>\n",
       "      <td id=\"T_d48b2_row12_col4\" class=\"data row12 col4\" >17.50</td>\n",
       "      <td id=\"T_d48b2_row12_col5\" class=\"data row12 col5\" >13.56</td>\n",
       "    </tr>\n",
       "    <tr>\n",
       "      <th id=\"T_d48b2_level0_row13\" class=\"row_heading level0 row13\" >Illinois</th>\n",
       "      <td id=\"T_d48b2_row13_col0\" class=\"data row13 col0\" >6.32</td>\n",
       "      <td id=\"T_d48b2_row13_col1\" class=\"data row13 col1\" >12.82</td>\n",
       "      <td id=\"T_d48b2_row13_col2\" class=\"data row13 col2\" >18.08</td>\n",
       "      <td id=\"T_d48b2_row13_col3\" class=\"data row13 col3\" >20.63</td>\n",
       "      <td id=\"T_d48b2_row13_col4\" class=\"data row13 col4\" >21.26</td>\n",
       "      <td id=\"T_d48b2_row13_col5\" class=\"data row13 col5\" >20.45</td>\n",
       "    </tr>\n",
       "    <tr>\n",
       "      <th id=\"T_d48b2_level0_row14\" class=\"row_heading level0 row14\" >Indiana</th>\n",
       "      <td id=\"T_d48b2_row14_col0\" class=\"data row14 col0\" >6.91</td>\n",
       "      <td id=\"T_d48b2_row14_col1\" class=\"data row14 col1\" >12.84</td>\n",
       "      <td id=\"T_d48b2_row14_col2\" class=\"data row14 col2\" >16.55</td>\n",
       "      <td id=\"T_d48b2_row14_col3\" class=\"data row14 col3\" >18.36</td>\n",
       "      <td id=\"T_d48b2_row14_col4\" class=\"data row14 col4\" >18.28</td>\n",
       "      <td id=\"T_d48b2_row14_col5\" class=\"data row14 col5\" >19.17</td>\n",
       "    </tr>\n",
       "    <tr>\n",
       "      <th id=\"T_d48b2_level0_row15\" class=\"row_heading level0 row15\" >Iowa</th>\n",
       "      <td id=\"T_d48b2_row15_col0\" class=\"data row15 col0\" >6.82</td>\n",
       "      <td id=\"T_d48b2_row15_col1\" class=\"data row15 col1\" >11.93</td>\n",
       "      <td id=\"T_d48b2_row15_col2\" class=\"data row15 col2\" >16.47</td>\n",
       "      <td id=\"T_d48b2_row15_col3\" class=\"data row15 col3\" >17.85</td>\n",
       "      <td id=\"T_d48b2_row15_col4\" class=\"data row15 col4\" >16.86</td>\n",
       "      <td id=\"T_d48b2_row15_col5\" class=\"data row15 col5\" >18.02</td>\n",
       "    </tr>\n",
       "    <tr>\n",
       "      <th id=\"T_d48b2_level0_row16\" class=\"row_heading level0 row16\" >Kansas</th>\n",
       "      <td id=\"T_d48b2_row16_col0\" class=\"data row16 col0\" >7.09</td>\n",
       "      <td id=\"T_d48b2_row16_col1\" class=\"data row16 col1\" >11.30</td>\n",
       "      <td id=\"T_d48b2_row16_col2\" class=\"data row16 col2\" >17.16</td>\n",
       "      <td id=\"T_d48b2_row16_col3\" class=\"data row16 col3\" >17.11</td>\n",
       "      <td id=\"T_d48b2_row16_col4\" class=\"data row16 col4\" >19.50</td>\n",
       "      <td id=\"T_d48b2_row16_col5\" class=\"data row16 col5\" >18.55</td>\n",
       "    </tr>\n",
       "    <tr>\n",
       "      <th id=\"T_d48b2_level0_row17\" class=\"row_heading level0 row17\" >Kentucky</th>\n",
       "      <td id=\"T_d48b2_row17_col0\" class=\"data row17 col0\" >8.08</td>\n",
       "      <td id=\"T_d48b2_row17_col1\" class=\"data row17 col1\" >11.88</td>\n",
       "      <td id=\"T_d48b2_row17_col2\" class=\"data row17 col2\" >15.83</td>\n",
       "      <td id=\"T_d48b2_row17_col3\" class=\"data row17 col3\" >16.51</td>\n",
       "      <td id=\"T_d48b2_row17_col4\" class=\"data row17 col4\" >17.61</td>\n",
       "      <td id=\"T_d48b2_row17_col5\" class=\"data row17 col5\" >17.01</td>\n",
       "    </tr>\n",
       "    <tr>\n",
       "      <th id=\"T_d48b2_level0_row18\" class=\"row_heading level0 row18\" >Louisiana</th>\n",
       "      <td id=\"T_d48b2_row18_col0\" class=\"data row18 col0\" >6.94</td>\n",
       "      <td id=\"T_d48b2_row18_col1\" class=\"data row18 col1\" >12.73</td>\n",
       "      <td id=\"T_d48b2_row18_col2\" class=\"data row18 col2\" >14.69</td>\n",
       "      <td id=\"T_d48b2_row18_col3\" class=\"data row18 col3\" >16.83</td>\n",
       "      <td id=\"T_d48b2_row18_col4\" class=\"data row18 col4\" >15.77</td>\n",
       "      <td id=\"T_d48b2_row18_col5\" class=\"data row18 col5\" >23.54</td>\n",
       "    </tr>\n",
       "    <tr>\n",
       "      <th id=\"T_d48b2_level0_row19\" class=\"row_heading level0 row19\" >Maine</th>\n",
       "      <td id=\"T_d48b2_row19_col0\" class=\"data row19 col0\" >5.33</td>\n",
       "      <td id=\"T_d48b2_row19_col1\" class=\"data row19 col1\" >12.13</td>\n",
       "      <td id=\"T_d48b2_row19_col2\" class=\"data row19 col2\" >16.72</td>\n",
       "      <td id=\"T_d48b2_row19_col3\" class=\"data row19 col3\" >17.50</td>\n",
       "      <td id=\"T_d48b2_row19_col4\" class=\"data row19 col4\" >18.44</td>\n",
       "      <td id=\"T_d48b2_row19_col5\" class=\"data row19 col5\" >15.45</td>\n",
       "    </tr>\n",
       "    <tr>\n",
       "      <th id=\"T_d48b2_level0_row20\" class=\"row_heading level0 row20\" >Maryland</th>\n",
       "      <td id=\"T_d48b2_row20_col0\" class=\"data row20 col0\" >7.67</td>\n",
       "      <td id=\"T_d48b2_row20_col1\" class=\"data row20 col1\" >15.10</td>\n",
       "      <td id=\"T_d48b2_row20_col2\" class=\"data row20 col2\" >20.85</td>\n",
       "      <td id=\"T_d48b2_row20_col3\" class=\"data row20 col3\" >22.72</td>\n",
       "      <td id=\"T_d48b2_row20_col4\" class=\"data row20 col4\" >22.84</td>\n",
       "      <td id=\"T_d48b2_row20_col5\" class=\"data row20 col5\" >24.99</td>\n",
       "    </tr>\n",
       "    <tr>\n",
       "      <th id=\"T_d48b2_level0_row21\" class=\"row_heading level0 row21\" >Massachusetts</th>\n",
       "      <td id=\"T_d48b2_row21_col0\" class=\"data row21 col0\" >7.83</td>\n",
       "      <td id=\"T_d48b2_row21_col1\" class=\"data row21 col1\" >14.09</td>\n",
       "      <td id=\"T_d48b2_row21_col2\" class=\"data row21 col2\" >22.51</td>\n",
       "      <td id=\"T_d48b2_row21_col3\" class=\"data row21 col3\" >23.45</td>\n",
       "      <td id=\"T_d48b2_row21_col4\" class=\"data row21 col4\" >23.85</td>\n",
       "      <td id=\"T_d48b2_row21_col5\" class=\"data row21 col5\" >22.04</td>\n",
       "    </tr>\n",
       "    <tr>\n",
       "      <th id=\"T_d48b2_level0_row22\" class=\"row_heading level0 row22\" >Michigan</th>\n",
       "      <td id=\"T_d48b2_row22_col0\" class=\"data row22 col0\" >6.53</td>\n",
       "      <td id=\"T_d48b2_row22_col1\" class=\"data row22 col1\" >12.10</td>\n",
       "      <td id=\"T_d48b2_row22_col2\" class=\"data row22 col2\" >18.30</td>\n",
       "      <td id=\"T_d48b2_row22_col3\" class=\"data row22 col3\" >19.88</td>\n",
       "      <td id=\"T_d48b2_row22_col4\" class=\"data row22 col4\" >20.40</td>\n",
       "      <td id=\"T_d48b2_row22_col5\" class=\"data row22 col5\" >20.24</td>\n",
       "    </tr>\n",
       "    <tr>\n",
       "      <th id=\"T_d48b2_level0_row23\" class=\"row_heading level0 row23\" >Minnesota</th>\n",
       "      <td id=\"T_d48b2_row23_col0\" class=\"data row23 col0\" >6.71</td>\n",
       "      <td id=\"T_d48b2_row23_col1\" class=\"data row23 col1\" >13.07</td>\n",
       "      <td id=\"T_d48b2_row23_col2\" class=\"data row23 col2\" >19.61</td>\n",
       "      <td id=\"T_d48b2_row23_col3\" class=\"data row23 col3\" >20.67</td>\n",
       "      <td id=\"T_d48b2_row23_col4\" class=\"data row23 col4\" >19.35</td>\n",
       "      <td id=\"T_d48b2_row23_col5\" class=\"data row23 col5\" >16.23</td>\n",
       "    </tr>\n",
       "    <tr>\n",
       "      <th id=\"T_d48b2_level0_row24\" class=\"row_heading level0 row24\" >Mississippi</th>\n",
       "      <td id=\"T_d48b2_row24_col0\" class=\"data row24 col0\" >6.10</td>\n",
       "      <td id=\"T_d48b2_row24_col1\" class=\"data row24 col1\" >11.67</td>\n",
       "      <td id=\"T_d48b2_row24_col2\" class=\"data row24 col2\" >14.92</td>\n",
       "      <td id=\"T_d48b2_row24_col3\" class=\"data row24 col3\" >16.70</td>\n",
       "      <td id=\"T_d48b2_row24_col4\" class=\"data row24 col4\" >14.97</td>\n",
       "      <td id=\"T_d48b2_row24_col5\" class=\"data row24 col5\" >19.39</td>\n",
       "    </tr>\n",
       "    <tr>\n",
       "      <th id=\"T_d48b2_level0_row25\" class=\"row_heading level0 row25\" >Missouri</th>\n",
       "      <td id=\"T_d48b2_row25_col0\" class=\"data row25 col0\" >6.36</td>\n",
       "      <td id=\"T_d48b2_row25_col1\" class=\"data row25 col1\" >11.81</td>\n",
       "      <td id=\"T_d48b2_row25_col2\" class=\"data row25 col2\" >16.48</td>\n",
       "      <td id=\"T_d48b2_row25_col3\" class=\"data row25 col3\" >18.48</td>\n",
       "      <td id=\"T_d48b2_row25_col4\" class=\"data row25 col4\" >19.46</td>\n",
       "      <td id=\"T_d48b2_row25_col5\" class=\"data row25 col5\" >17.78</td>\n",
       "    </tr>\n",
       "    <tr>\n",
       "      <th id=\"T_d48b2_level0_row26\" class=\"row_heading level0 row26\" >Montana</th>\n",
       "      <td id=\"T_d48b2_row26_col0\" class=\"data row26 col0\" >5.02</td>\n",
       "      <td id=\"T_d48b2_row26_col1\" class=\"data row26 col1\" >11.13</td>\n",
       "      <td id=\"T_d48b2_row26_col2\" class=\"data row26 col2\" >14.47</td>\n",
       "      <td id=\"T_d48b2_row26_col3\" class=\"data row26 col3\" >16.56</td>\n",
       "      <td id=\"T_d48b2_row26_col4\" class=\"data row26 col4\" >15.90</td>\n",
       "      <td id=\"T_d48b2_row26_col5\" class=\"data row26 col5\" >16.35</td>\n",
       "    </tr>\n",
       "    <tr>\n",
       "      <th id=\"T_d48b2_level0_row27\" class=\"row_heading level0 row27\" >Nebraska</th>\n",
       "      <td id=\"T_d48b2_row27_col0\" class=\"data row27 col0\" >6.97</td>\n",
       "      <td id=\"T_d48b2_row27_col1\" class=\"data row27 col1\" >11.62</td>\n",
       "      <td id=\"T_d48b2_row27_col2\" class=\"data row27 col2\" >16.71</td>\n",
       "      <td id=\"T_d48b2_row27_col3\" class=\"data row27 col3\" >16.99</td>\n",
       "      <td id=\"T_d48b2_row27_col4\" class=\"data row27 col4\" >16.65</td>\n",
       "      <td id=\"T_d48b2_row27_col5\" class=\"data row27 col5\" >16.14</td>\n",
       "    </tr>\n",
       "    <tr>\n",
       "      <th id=\"T_d48b2_level0_row28\" class=\"row_heading level0 row28\" >Nevada</th>\n",
       "      <td id=\"T_d48b2_row28_col0\" class=\"data row28 col0\" >9.01</td>\n",
       "      <td id=\"T_d48b2_row28_col1\" class=\"data row28 col1\" >12.16</td>\n",
       "      <td id=\"T_d48b2_row28_col2\" class=\"data row28 col2\" >16.87</td>\n",
       "      <td id=\"T_d48b2_row28_col3\" class=\"data row28 col3\" >17.99</td>\n",
       "      <td id=\"T_d48b2_row28_col4\" class=\"data row28 col4\" >17.47</td>\n",
       "      <td id=\"T_d48b2_row28_col5\" class=\"data row28 col5\" >17.67</td>\n",
       "    </tr>\n",
       "    <tr>\n",
       "      <th id=\"T_d48b2_level0_row29\" class=\"row_heading level0 row29\" >New Hampshire</th>\n",
       "      <td id=\"T_d48b2_row29_col0\" class=\"data row29 col0\" >8.62</td>\n",
       "      <td id=\"T_d48b2_row29_col1\" class=\"data row29 col1\" >14.04</td>\n",
       "      <td id=\"T_d48b2_row29_col2\" class=\"data row29 col2\" >20.53</td>\n",
       "      <td id=\"T_d48b2_row29_col3\" class=\"data row29 col3\" >20.96</td>\n",
       "      <td id=\"T_d48b2_row29_col4\" class=\"data row29 col4\" >21.03</td>\n",
       "      <td id=\"T_d48b2_row29_col5\" class=\"data row29 col5\" >21.27</td>\n",
       "    </tr>\n",
       "    <tr>\n",
       "      <th id=\"T_d48b2_level0_row30\" class=\"row_heading level0 row30\" >New Jersey</th>\n",
       "      <td id=\"T_d48b2_row30_col0\" class=\"data row30 col0\" >8.41</td>\n",
       "      <td id=\"T_d48b2_row30_col1\" class=\"data row30 col1\" >12.60</td>\n",
       "      <td id=\"T_d48b2_row30_col2\" class=\"data row30 col2\" >21.93</td>\n",
       "      <td id=\"T_d48b2_row30_col3\" class=\"data row30 col3\" >22.38</td>\n",
       "      <td id=\"T_d48b2_row30_col4\" class=\"data row30 col4\" >24.25</td>\n",
       "      <td id=\"T_d48b2_row30_col5\" class=\"data row30 col5\" >20.92</td>\n",
       "    </tr>\n",
       "    <tr>\n",
       "      <th id=\"T_d48b2_level0_row31\" class=\"row_heading level0 row31\" >New Mexico</th>\n",
       "      <td id=\"T_d48b2_row31_col0\" class=\"data row31 col0\" >6.88</td>\n",
       "      <td id=\"T_d48b2_row31_col1\" class=\"data row31 col1\" >11.87</td>\n",
       "      <td id=\"T_d48b2_row31_col2\" class=\"data row31 col2\" >17.32</td>\n",
       "      <td id=\"T_d48b2_row31_col3\" class=\"data row31 col3\" >20.24</td>\n",
       "      <td id=\"T_d48b2_row31_col4\" class=\"data row31 col4\" >18.94</td>\n",
       "      <td id=\"T_d48b2_row31_col5\" class=\"data row31 col5\" >22.81</td>\n",
       "    </tr>\n",
       "    <tr>\n",
       "      <th id=\"T_d48b2_level0_row32\" class=\"row_heading level0 row32\" >New York</th>\n",
       "      <td id=\"T_d48b2_row32_col0\" class=\"data row32 col0\" >7.24</td>\n",
       "      <td id=\"T_d48b2_row32_col1\" class=\"data row32 col1\" >14.76</td>\n",
       "      <td id=\"T_d48b2_row32_col2\" class=\"data row32 col2\" >19.35</td>\n",
       "      <td id=\"T_d48b2_row32_col3\" class=\"data row32 col3\" >20.09</td>\n",
       "      <td id=\"T_d48b2_row32_col4\" class=\"data row32 col4\" >20.53</td>\n",
       "      <td id=\"T_d48b2_row32_col5\" class=\"data row32 col5\" >19.21</td>\n",
       "    </tr>\n",
       "    <tr>\n",
       "      <th id=\"T_d48b2_level0_row33\" class=\"row_heading level0 row33\" >North Carolina</th>\n",
       "      <td id=\"T_d48b2_row33_col0\" class=\"data row33 col0\" >7.46</td>\n",
       "      <td id=\"T_d48b2_row33_col1\" class=\"data row33 col1\" >11.89</td>\n",
       "      <td id=\"T_d48b2_row33_col2\" class=\"data row33 col2\" >15.89</td>\n",
       "      <td id=\"T_d48b2_row33_col3\" class=\"data row33 col3\" >18.26</td>\n",
       "      <td id=\"T_d48b2_row33_col4\" class=\"data row33 col4\" >19.69</td>\n",
       "      <td id=\"T_d48b2_row33_col5\" class=\"data row33 col5\" >18.44</td>\n",
       "    </tr>\n",
       "    <tr>\n",
       "      <th id=\"T_d48b2_level0_row34\" class=\"row_heading level0 row34\" >North Dakota</th>\n",
       "      <td id=\"T_d48b2_row34_col0\" class=\"data row34 col0\" >6.80</td>\n",
       "      <td id=\"T_d48b2_row34_col1\" class=\"data row34 col1\" >12.60</td>\n",
       "      <td id=\"T_d48b2_row34_col2\" class=\"data row34 col2\" >16.92</td>\n",
       "      <td id=\"T_d48b2_row34_col3\" class=\"data row34 col3\" >17.70</td>\n",
       "      <td id=\"T_d48b2_row34_col4\" class=\"data row34 col4\" >16.56</td>\n",
       "      <td id=\"T_d48b2_row34_col5\" class=\"data row34 col5\" >14.66</td>\n",
       "    </tr>\n",
       "    <tr>\n",
       "      <th id=\"T_d48b2_level0_row35\" class=\"row_heading level0 row35\" >Ohio</th>\n",
       "      <td id=\"T_d48b2_row35_col0\" class=\"data row35 col0\" >6.69</td>\n",
       "      <td id=\"T_d48b2_row35_col1\" class=\"data row35 col1\" >11.11</td>\n",
       "      <td id=\"T_d48b2_row35_col2\" class=\"data row35 col2\" >16.18</td>\n",
       "      <td id=\"T_d48b2_row35_col3\" class=\"data row35 col3\" >17.74</td>\n",
       "      <td id=\"T_d48b2_row35_col4\" class=\"data row35 col4\" >19.00</td>\n",
       "      <td id=\"T_d48b2_row35_col5\" class=\"data row35 col5\" >20.15</td>\n",
       "    </tr>\n",
       "    <tr>\n",
       "      <th id=\"T_d48b2_level0_row36\" class=\"row_heading level0 row36\" >Oklahoma</th>\n",
       "      <td id=\"T_d48b2_row36_col0\" class=\"data row36 col0\" >6.06</td>\n",
       "      <td id=\"T_d48b2_row36_col1\" class=\"data row36 col1\" >10.85</td>\n",
       "      <td id=\"T_d48b2_row36_col2\" class=\"data row36 col2\" >15.90</td>\n",
       "      <td id=\"T_d48b2_row36_col3\" class=\"data row36 col3\" >17.77</td>\n",
       "      <td id=\"T_d48b2_row36_col4\" class=\"data row36 col4\" >18.41</td>\n",
       "      <td id=\"T_d48b2_row36_col5\" class=\"data row36 col5\" >20.17</td>\n",
       "    </tr>\n",
       "    <tr>\n",
       "      <th id=\"T_d48b2_level0_row37\" class=\"row_heading level0 row37\" >Oregon</th>\n",
       "      <td id=\"T_d48b2_row37_col0\" class=\"data row37 col0\" >6.90</td>\n",
       "      <td id=\"T_d48b2_row37_col1\" class=\"data row37 col1\" >12.05</td>\n",
       "      <td id=\"T_d48b2_row37_col2\" class=\"data row37 col2\" >17.71</td>\n",
       "      <td id=\"T_d48b2_row37_col3\" class=\"data row37 col3\" >20.14</td>\n",
       "      <td id=\"T_d48b2_row37_col4\" class=\"data row37 col4\" >19.64</td>\n",
       "      <td id=\"T_d48b2_row37_col5\" class=\"data row37 col5\" >19.14</td>\n",
       "    </tr>\n",
       "    <tr>\n",
       "      <th id=\"T_d48b2_level0_row38\" class=\"row_heading level0 row38\" >Pennsylvania</th>\n",
       "      <td id=\"T_d48b2_row38_col0\" class=\"data row38 col0\" >8.93</td>\n",
       "      <td id=\"T_d48b2_row38_col1\" class=\"data row38 col1\" >12.74</td>\n",
       "      <td id=\"T_d48b2_row38_col2\" class=\"data row38 col2\" >18.96</td>\n",
       "      <td id=\"T_d48b2_row38_col3\" class=\"data row38 col3\" >20.05</td>\n",
       "      <td id=\"T_d48b2_row38_col4\" class=\"data row38 col4\" >19.13</td>\n",
       "      <td id=\"T_d48b2_row38_col5\" class=\"data row38 col5\" >15.29</td>\n",
       "    </tr>\n",
       "    <tr>\n",
       "      <th id=\"T_d48b2_level0_row39\" class=\"row_heading level0 row39\" >Rhode Island</th>\n",
       "      <td id=\"T_d48b2_row39_col0\" class=\"data row39 col0\" >8.02</td>\n",
       "      <td id=\"T_d48b2_row39_col1\" class=\"data row39 col1\" >12.71</td>\n",
       "      <td id=\"T_d48b2_row39_col2\" class=\"data row39 col2\" >18.33</td>\n",
       "      <td id=\"T_d48b2_row39_col3\" class=\"data row39 col3\" >21.42</td>\n",
       "      <td id=\"T_d48b2_row39_col4\" class=\"data row39 col4\" >22.38</td>\n",
       "      <td id=\"T_d48b2_row39_col5\" class=\"data row39 col5\" >20.13</td>\n",
       "    </tr>\n",
       "    <tr>\n",
       "      <th id=\"T_d48b2_level0_row40\" class=\"row_heading level0 row40\" >South Carolina</th>\n",
       "      <td id=\"T_d48b2_row40_col0\" class=\"data row40 col0\" >5.23</td>\n",
       "      <td id=\"T_d48b2_row40_col1\" class=\"data row40 col1\" >10.63</td>\n",
       "      <td id=\"T_d48b2_row40_col2\" class=\"data row40 col2\" >13.82</td>\n",
       "      <td id=\"T_d48b2_row40_col3\" class=\"data row40 col3\" >15.68</td>\n",
       "      <td id=\"T_d48b2_row40_col4\" class=\"data row40 col4\" >15.67</td>\n",
       "      <td id=\"T_d48b2_row40_col5\" class=\"data row40 col5\" >16.60</td>\n",
       "    </tr>\n",
       "    <tr>\n",
       "      <th id=\"T_d48b2_level0_row41\" class=\"row_heading level0 row41\" >South Dakota</th>\n",
       "      <td id=\"T_d48b2_row41_col0\" class=\"data row41 col0\" >5.38</td>\n",
       "      <td id=\"T_d48b2_row41_col1\" class=\"data row41 col1\" >10.99</td>\n",
       "      <td id=\"T_d48b2_row41_col2\" class=\"data row41 col2\" >14.96</td>\n",
       "      <td id=\"T_d48b2_row41_col3\" class=\"data row41 col3\" >15.74</td>\n",
       "      <td id=\"T_d48b2_row41_col4\" class=\"data row41 col4\" >16.01</td>\n",
       "      <td id=\"T_d48b2_row41_col5\" class=\"data row41 col5\" >15.31</td>\n",
       "    </tr>\n",
       "    <tr>\n",
       "      <th id=\"T_d48b2_level0_row42\" class=\"row_heading level0 row42\" >Tennessee</th>\n",
       "      <td id=\"T_d48b2_row42_col0\" class=\"data row42 col0\" >5.02</td>\n",
       "      <td id=\"T_d48b2_row42_col1\" class=\"data row42 col1\" >11.40</td>\n",
       "      <td id=\"T_d48b2_row42_col2\" class=\"data row42 col2\" >16.19</td>\n",
       "      <td id=\"T_d48b2_row42_col3\" class=\"data row42 col3\" >16.49</td>\n",
       "      <td id=\"T_d48b2_row42_col4\" class=\"data row42 col4\" >15.87</td>\n",
       "      <td id=\"T_d48b2_row42_col5\" class=\"data row42 col5\" >17.85</td>\n",
       "    </tr>\n",
       "    <tr>\n",
       "      <th id=\"T_d48b2_level0_row43\" class=\"row_heading level0 row43\" >Texas</th>\n",
       "      <td id=\"T_d48b2_row43_col0\" class=\"data row43 col0\" >7.62</td>\n",
       "      <td id=\"T_d48b2_row43_col1\" class=\"data row43 col1\" >12.44</td>\n",
       "      <td id=\"T_d48b2_row43_col2\" class=\"data row43 col2\" >16.57</td>\n",
       "      <td id=\"T_d48b2_row43_col3\" class=\"data row43 col3\" >16.95</td>\n",
       "      <td id=\"T_d48b2_row43_col4\" class=\"data row43 col4\" >17.83</td>\n",
       "      <td id=\"T_d48b2_row43_col5\" class=\"data row43 col5\" >18.53</td>\n",
       "    </tr>\n",
       "    <tr>\n",
       "      <th id=\"T_d48b2_level0_row44\" class=\"row_heading level0 row44\" >Utah</th>\n",
       "      <td id=\"T_d48b2_row44_col0\" class=\"data row44 col0\" >9.07</td>\n",
       "      <td id=\"T_d48b2_row44_col1\" class=\"data row44 col1\" >13.14</td>\n",
       "      <td id=\"T_d48b2_row44_col2\" class=\"data row44 col2\" >16.75</td>\n",
       "      <td id=\"T_d48b2_row44_col3\" class=\"data row44 col3\" >20.00</td>\n",
       "      <td id=\"T_d48b2_row44_col4\" class=\"data row44 col4\" >20.05</td>\n",
       "      <td id=\"T_d48b2_row44_col5\" class=\"data row44 col5\" >19.97</td>\n",
       "    </tr>\n",
       "    <tr>\n",
       "      <th id=\"T_d48b2_level0_row45\" class=\"row_heading level0 row45\" >Vermont</th>\n",
       "      <td id=\"T_d48b2_row45_col0\" class=\"data row45 col0\" >8.23</td>\n",
       "      <td id=\"T_d48b2_row45_col1\" class=\"data row45 col1\" >12.71</td>\n",
       "      <td id=\"T_d48b2_row45_col2\" class=\"data row45 col2\" >16.30</td>\n",
       "      <td id=\"T_d48b2_row45_col3\" class=\"data row45 col3\" >17.24</td>\n",
       "      <td id=\"T_d48b2_row45_col4\" class=\"data row45 col4\" >18.89</td>\n",
       "      <td id=\"T_d48b2_row45_col5\" class=\"data row45 col5\" >18.57</td>\n",
       "    </tr>\n",
       "    <tr>\n",
       "      <th id=\"T_d48b2_level0_row46\" class=\"row_heading level0 row46\" >Virginia</th>\n",
       "      <td id=\"T_d48b2_row46_col0\" class=\"data row46 col0\" >7.01</td>\n",
       "      <td id=\"T_d48b2_row46_col1\" class=\"data row46 col1\" >14.41</td>\n",
       "      <td id=\"T_d48b2_row46_col2\" class=\"data row46 col2\" >19.78</td>\n",
       "      <td id=\"T_d48b2_row46_col3\" class=\"data row46 col3\" >22.61</td>\n",
       "      <td id=\"T_d48b2_row46_col4\" class=\"data row46 col4\" >22.40</td>\n",
       "      <td id=\"T_d48b2_row46_col5\" class=\"data row46 col5\" >20.67</td>\n",
       "    </tr>\n",
       "    <tr>\n",
       "      <th id=\"T_d48b2_level0_row47\" class=\"row_heading level0 row47\" >Washington</th>\n",
       "      <td id=\"T_d48b2_row47_col0\" class=\"data row47 col0\" >6.62</td>\n",
       "      <td id=\"T_d48b2_row47_col1\" class=\"data row47 col1\" >13.34</td>\n",
       "      <td id=\"T_d48b2_row47_col2\" class=\"data row47 col2\" >19.38</td>\n",
       "      <td id=\"T_d48b2_row47_col3\" class=\"data row47 col3\" >19.99</td>\n",
       "      <td id=\"T_d48b2_row47_col4\" class=\"data row47 col4\" >20.53</td>\n",
       "      <td id=\"T_d48b2_row47_col5\" class=\"data row47 col5\" >22.46</td>\n",
       "    </tr>\n",
       "    <tr>\n",
       "      <th id=\"T_d48b2_level0_row48\" class=\"row_heading level0 row48\" >West Virginia</th>\n",
       "      <td id=\"T_d48b2_row48_col0\" class=\"data row48 col0\" >6.97</td>\n",
       "      <td id=\"T_d48b2_row48_col1\" class=\"data row48 col1\" >11.81</td>\n",
       "      <td id=\"T_d48b2_row48_col2\" class=\"data row48 col2\" >15.80</td>\n",
       "      <td id=\"T_d48b2_row48_col3\" class=\"data row48 col3\" >16.56</td>\n",
       "      <td id=\"T_d48b2_row48_col4\" class=\"data row48 col4\" >16.36</td>\n",
       "      <td id=\"T_d48b2_row48_col5\" class=\"data row48 col5\" >21.27</td>\n",
       "    </tr>\n",
       "    <tr>\n",
       "      <th id=\"T_d48b2_level0_row49\" class=\"row_heading level0 row49\" >Wisconsin</th>\n",
       "      <td id=\"T_d48b2_row49_col0\" class=\"data row49 col0\" >7.12</td>\n",
       "      <td id=\"T_d48b2_row49_col1\" class=\"data row49 col1\" >11.72</td>\n",
       "      <td id=\"T_d48b2_row49_col2\" class=\"data row49 col2\" >16.97</td>\n",
       "      <td id=\"T_d48b2_row49_col3\" class=\"data row49 col3\" >18.75</td>\n",
       "      <td id=\"T_d48b2_row49_col4\" class=\"data row49 col4\" >19.11</td>\n",
       "      <td id=\"T_d48b2_row49_col5\" class=\"data row49 col5\" >17.61</td>\n",
       "    </tr>\n",
       "    <tr>\n",
       "      <th id=\"T_d48b2_level0_row50\" class=\"row_heading level0 row50\" >Wyoming</th>\n",
       "      <td id=\"T_d48b2_row50_col0\" class=\"data row50 col0\" >7.19</td>\n",
       "      <td id=\"T_d48b2_row50_col1\" class=\"data row50 col1\" >13.69</td>\n",
       "      <td id=\"T_d48b2_row50_col2\" class=\"data row50 col2\" >18.80</td>\n",
       "      <td id=\"T_d48b2_row50_col3\" class=\"data row50 col3\" >18.08</td>\n",
       "      <td id=\"T_d48b2_row50_col4\" class=\"data row50 col4\" >17.69</td>\n",
       "      <td id=\"T_d48b2_row50_col5\" class=\"data row50 col5\" >15.72</td>\n",
       "    </tr>\n",
       "  </tbody>\n",
       "</table>\n"
      ],
      "text/plain": [
       "<pandas.io.formats.style.Styler at 0x7ff7becbb0a0>"
      ]
     },
     "execution_count": 6,
     "metadata": {},
     "output_type": "execute_result"
    }
   ],
   "source": [
    "# we tabulate the counts by age group and state\n",
    "tibo_question1(data)"
   ]
  },
  {
   "cell_type": "markdown",
   "metadata": {},
   "source": [
    "## A first regression"
   ]
  },
  {
   "cell_type": "code",
   "execution_count": 7,
   "metadata": {
    "ExecuteTime": {
     "end_time": "2021-09-20T17:03:39.289096Z",
     "start_time": "2021-09-20T17:03:38.201Z"
    }
   },
   "outputs": [
    {
     "name": "stdout",
     "output_type": "stream",
     "text": [
      "                            OLS Regression Results                            \n",
      "==============================================================================\n",
      "Dep. Variable:                 lnwage   R-squared:                       0.000\n",
      "Model:                            OLS   Adj. R-squared:                  0.000\n",
      "Method:                 Least Squares   F-statistic:                     11.53\n",
      "Date:                Sun, 14 Nov 2021   Prob (F-statistic):           0.000687\n",
      "Time:                        10:04:10   Log-Likelihood:                -62336.\n",
      "No. Observations:               65685   AIC:                         1.247e+05\n",
      "Df Residuals:                   65683   BIC:                         1.247e+05\n",
      "Df Model:                           1                                         \n",
      "Covariance Type:            nonrobust                                         \n",
      "==============================================================================\n",
      "                 coef    std err          t      P>|t|      [0.025      0.975]\n",
      "------------------------------------------------------------------------------\n",
      "Intercept      2.6687      0.003    836.168      0.000       2.662       2.675\n",
      "fp[T.True]     0.0168      0.005      3.395      0.001       0.007       0.026\n",
      "==============================================================================\n",
      "Omnibus:                        5.904   Durbin-Watson:                   1.582\n",
      "Prob(Omnibus):                  0.052   Jarque-Bera (JB):                5.915\n",
      "Skew:                           0.023   Prob(JB):                       0.0519\n",
      "Kurtosis:                       2.992   Cond. No.                         2.47\n",
      "==============================================================================\n",
      "\n",
      "Notes:\n",
      "[1] Standard Errors assume that the covariance matrix of the errors is correctly specified.\n"
     ]
    }
   ],
   "source": [
    "import statsmodels.api as sm\n",
    "import statsmodels.formula.api as smf\n",
    "\n",
    "results = smf.ols('lnwage ~ fp', data=data).fit()\n",
    "print(results.summary())"
   ]
  },
  {
   "cell_type": "markdown",
   "metadata": {},
   "source": [
    "Note We do not control for state specific fixed effect as these would would be perfectly colinear with the policy.\n",
    "\n",
    "Now this is surprising. We generated `fp` randomly across states, yet we find a **significant effect** of the policy on log wages. To gain understanding on what is happening we will generate our own data in a way where we control exactly what is happening.\n",
    "\n"
   ]
  },
  {
   "cell_type": "markdown",
   "metadata": {},
   "source": [
    "## IID errors\n",
    "\n",
    "Let's start by reassuring ourselves. Let's use an IID data generating process (DGP), run the regression and check the significance.\n",
    "\n",
    " 1. compute the variance of `lnwage` in the sample. This is an estimate of our homoskedastic error.\n",
    " 2. simulate a fictuous outcome `y2` simply equal to normal error with the estimated variance, and truly independent across individuals. Use `.assign(y2 = ...)` on the pandas dataFrame.\n",
    " 3. regress this outcome `y2` on `fp`, our fictuous policy and collect the coefficient, also save if the coefficient is significant at 5%.\n",
    " 4. run steps (2,3) 500 times.\n",
    " \n",
    "!!! question \"Question 2\"\n",
    "    Follow the previous steps and report how often we would consider teh coefficient on `fp`significant at 5%. You should find something close to 5% and you should feel better about the theory!\n"
   ]
  },
  {
   "cell_type": "code",
   "execution_count": 8,
   "metadata": {
    "ExecuteTime": {
     "end_time": "2021-09-20T17:03:39.289454Z",
     "start_time": "2021-09-20T17:03:38.202Z"
    }
   },
   "outputs": [
    {
     "name": "stderr",
     "output_type": "stream",
     "text": [
      "100%|████████████████████████████████████████████████████████████████████████████████████████████████████████████████████████████████████████████████████████████████████| 500/500 [01:52<00:00,  4.46it/s]\n"
     ]
    },
    {
     "data": {
      "text/plain": [
       "<matplotlib.lines.Line2D at 0x7ff7be850d30>"
      ]
     },
     "execution_count": 8,
     "metadata": {},
     "output_type": "execute_result"
    },
    {
     "data": {
      "image/png": "[encoded data removed]",
      "text/plain": [
       "<Figure size 432x288 with 1 Axes>"
      ]
     },
     "metadata": {
      "needs_background": "light"
     },
     "output_type": "display_data"
    }
   ],
   "source": [
    "# I colled tstats across 500 replications and plot the histogram\n",
    "tstats = tibo_question2(data)\n",
    "plt.hist(tstats)\n",
    "plt.axvline(1.96,color='red',linestyle=\":\")\n",
    "plt.axvline(-1.96,color='red',linestyle=\":\")"
   ]
  },
  {
   "cell_type": "code",
   "execution_count": 9,
   "metadata": {
    "ExecuteTime": {
     "end_time": "2021-09-20T17:03:39.289800Z",
     "start_time": "2021-09-20T17:03:38.202Z"
    }
   },
   "outputs": [
    {
     "data": {
      "text/plain": [
       "0.038"
      ]
     },
     "execution_count": 9,
     "metadata": {},
     "output_type": "execute_result"
    }
   ],
   "source": [
    "# I check that the distribution is outside of the 0.025 to 0.0975 quantiles of the normal with probability close to 0.05\n",
    "(np.abs(tstats)>1.96).mean()"
   ]
  },
  {
   "cell_type": "markdown",
   "metadata": {},
   "source": [
    "## Back to using wages in data\n",
    "\n",
    "We go back and we do the same exercise, only this time we redraw the policy in each replciations and regress the wages on it, and collect the t-stats. We then plot the histogram of the t-stats and compute the probability of rejecting the null that the coefficient on the policy is 0. \n",
    "\n",
    "!!! question \"Question 3\"\n",
    "    Replicate 500 times the very first regression to recreate an histogram of t-stats similar to the following one. Compute the probability to reject the null of effect and comment on its value given the way you simulated the data (2 sentences max)."
   ]
  },
  {
   "cell_type": "code",
   "execution_count": 10,
   "metadata": {
    "ExecuteTime": {
     "end_time": "2021-09-20T17:03:39.290224Z",
     "start_time": "2021-09-20T17:03:38.203Z"
    }
   },
   "outputs": [
    {
     "name": "stderr",
     "output_type": "stream",
     "text": [
      "100%|████████████████████████████████████████████████████████████████████████████████████████████████████████████████████████████████████████████████████████████████████| 500/500 [02:03<00:00,  4.05it/s]\n"
     ]
    },
    {
     "data": {
      "text/plain": [
       "<matplotlib.lines.Line2D at 0x7ff7be60b0d0>"
      ]
     },
     "execution_count": 10,
     "metadata": {},
     "output_type": "execute_result"
    },
    {
     "data": {
      "image/png": "[encoded data removed]",
      "text/plain": [
       "<Figure size 432x288 with 1 Axes>"
      ]
     },
     "metadata": {
      "needs_background": "light"
     },
     "output_type": "display_data"
    }
   ],
   "source": [
    "tstats = tibo_question3(data)\n",
    "plt.hist(tstats)\n",
    "plt.axvline(1.96,color='red',linestyle=\":\")\n",
    "plt.axvline(-1.96,color='red',linestyle=\":\")"
   ]
  },
  {
   "cell_type": "markdown",
   "metadata": {},
   "source": [
    "## Heteroskedastic errors\n",
    "\n",
    "Now we want to simulate heteroskedastic robust standard errors which requires us to use some co-variates. We then want to repeat the previous procedure, but we are going to use a different code for simulation and a new test for the significance. `statsmodels` can do that for you using the `cov_type` argument of the `fit` method.\n",
    "\n",
    "We want to check this by simulating from a model with heteroskedesatic errors. To do so we are going to use linear model for the variance:\n",
    "\n",
    "$$ y_{i} = 0 + s(x_i) \\cdot \\epsilon_i$$\n",
    "\n",
    "We are going to use a linear specification for $s^2(x_i)$. \n",
    "\n",
    " 1. run the following regression `lnwage ~ yrseduc + age + age^2` to get the $m(x_i) = x_i' \\beta$ where the $x_i$ are education, age and age squared. \n",
    " 2. extract the residuals $\\hat{u}_i$ from the previous regression. Then regress $\\hat{u}^2_i$ on `yrseduc + age + age^2`, to get the $s^2(x_i) = x_i' \\gamma$ model.\n",
    " 2. using $s^2(x_i) = x_i' \\gamma$, construct $ y_{i} = 0 + s(x_i) \\cdot \\epsilon_i$ where $\\epsilon_i$ is drawn iid Normal(0,1).\n",
    " 5. replicate this 500 times, evaluate the significance of `fp` using heteroskedastic roduct inference by calling `.fit(cov_type='HC0')`, also save without using the robust errors.\n",
    "\n",
    "!!! question \"Question 4\"\n",
    "    Follow the steps and report the distributions of t-stats, as well as the rejection rates for each of the two variance specifications."
   ]
  },
  {
   "cell_type": "code",
   "execution_count": 11,
   "metadata": {
    "ExecuteTime": {
     "end_time": "2021-09-20T17:03:39.290549Z",
     "start_time": "2021-09-20T17:03:38.204Z"
    }
   },
   "outputs": [
    {
     "name": "stderr",
     "output_type": "stream",
     "text": [
      "100%|████████████████████████████████████████████████████████████████████████████████████████████████████████████████████████████████████████████████████████████████████| 500/500 [03:54<00:00,  2.13it/s]\n"
     ]
    }
   ],
   "source": [
    "tstats = tibo_question4(data,R=500)\n"
   ]
  },
  {
   "cell_type": "code",
   "execution_count": 12,
   "metadata": {
    "ExecuteTime": {
     "end_time": "2021-09-20T17:03:39.290893Z",
     "start_time": "2021-09-20T17:03:38.204Z"
    }
   },
   "outputs": [
    {
     "data": {
      "image/png": "[encoded data removed]",
      "text/plain": [
       "<Figure size 432x288 with 2 Axes>"
      ]
     },
     "metadata": {
      "needs_background": "light"
     },
     "output_type": "display_data"
    }
   ],
   "source": [
    "plt.subplot(1,2,1)\n",
    "plt.hist(tstats[:,0])\n",
    "plt.axvline(1.96,color='red',linestyle=\":\")\n",
    "plt.axvline(-1.96,color='red',linestyle=\":\")\n",
    "plt.title('Homoskedastic')\n",
    "\n",
    "plt.subplot(1,2,2)\n",
    "plt.hist(tstats[:,1])\n",
    "plt.axvline(1.96,color='red',linestyle=\":\")\n",
    "plt.axvline(-1.96,color='red',linestyle=\":\")\n",
    "plt.title('Heteroskedastic')\n",
    "\n",
    "plt.show()"
   ]
  },
  {
   "cell_type": "markdown",
   "metadata": {},
   "source": [
    "## State clustered errors\n",
    "\n",
    "We are going to simulate corrolated error within state. To do so we continue to draw independent error terms $u_i$ but we add to them a common draw at the state level. In practice you can do that by doing similar to drawing the `fp`. We then create the outcome as \n",
    "\n",
    "$$y_{ig} = (1-\\rho) u_i + \\rho v_g $$\n",
    "\n",
    "Here is a way of doing this: "
   ]
  },
  {
   "cell_type": "code",
   "execution_count": 13,
   "metadata": {
    "ExecuteTime": {
     "end_time": "2021-09-20T17:03:39.291220Z",
     "start_time": "2021-09-20T17:03:38.205Z"
    }
   },
   "outputs": [],
   "source": [
    "rho=0.5\n",
    "data['u'] = np.random.normal(size=len(data))\n",
    "data['v'] = data.groupby('statefip')['u'].transform(lambda x : (1-rho)*x.to_numpy() + rho*np.random.normal(size=1))"
   ]
  },
  {
   "cell_type": "markdown",
   "metadata": {},
   "source": [
    "!!! question \"Question 5\"\n",
    "    First, explain the `groupby` expression. Next find another way of doing line 2 and 3, but try to minize the number of characters (see [python golfing](https://www.geeksforgeeks.org/code-golfing-in-python/) or more generaly [wikipedia](https://en.wikipedia.org/wiki/Code_golf))."
   ]
  },
  {
   "cell_type": "markdown",
   "metadata": {},
   "source": [
    "Before we get started estimating the effect of the policy, let's write a function that computes the within state correlation in the error term. \n",
    "\n",
    "To that end draw 500 pairs of people where the 2 people in a pair belong to the same state. This gives you 2 vector of length 500. Compute the correlation between these 2 vectors. Use the `sample` and `query` methods of `pandas`. Similarly construct a placebo function that just takes random pairs of workers without imposing that they come from the same state."
   ]
  },
  {
   "cell_type": "markdown",
   "metadata": {},
   "source": [
    "!!! question \"Question 6\"\n",
    "    Write your own version of the `tibo_pair_cor` and `tibo_cor_placebo` functions, see what my version delivers:"
   ]
  },
  {
   "cell_type": "code",
   "execution_count": 14,
   "metadata": {
    "ExecuteTime": {
     "end_time": "2021-09-20T17:03:39.291557Z",
     "start_time": "2021-09-20T17:03:38.206Z"
    }
   },
   "outputs": [
    {
     "name": "stdout",
     "output_type": "stream",
     "text": [
      "0.3897776020016869\n",
      "-0.040966125092058624\n",
      "0.9456602724962486\n",
      "0.02788388532066169\n"
     ]
    }
   ],
   "source": [
    "rho=0.5\n",
    "data['u'] = np.random.normal(size=len(data))\n",
    "data['v'] = data.groupby('statefip')['u'].transform(lambda x : (1-rho)*x.to_numpy() + rho*np.random.normal(size=1))\n",
    "\n",
    "print(tibo_pair_cor(data))\n",
    "print(tibo_pair_cor_placebo(data))\n",
    "\n",
    "rho=0.8\n",
    "data['u'] = np.random.normal(size=len(data))\n",
    "data['v'] = data.groupby('statefip')['u'].transform(lambda x : (1-rho)*x.to_numpy() + rho*np.random.normal(size=1))\n",
    "\n",
    "print(tibo_pair_cor(data))\n",
    "print(tibo_pair_cor_placebo(data))"
   ]
  },
  {
   "cell_type": "markdown",
   "metadata": {},
   "source": [
    "We are then going to replicate the data construction 500 times.\n",
    "\n",
    "!!! question \"Question 7\"\n",
    "    For $\\rho=0.2,0.5,0.8$ run 500 replications and report the proportion at each value of $\\rho$ for which the coefficient on$\\text{fp}$ is significant at 5%. Report the results for three different regression using regular `fit`, using `cov_type='HC0'` and using `cov_type='cluster'`."
   ]
  },
  {
   "cell_type": "code",
   "execution_count": 15,
   "metadata": {
    "ExecuteTime": {
     "end_time": "2021-09-20T17:03:39.291878Z",
     "start_time": "2021-09-20T17:03:38.207Z"
    },
    "scrolled": false
   },
   "outputs": [
    {
     "name": "stdout",
     "output_type": "stream",
     "text": [
      "                            OLS Regression Results                            \n",
      "==============================================================================\n",
      "Dep. Variable:                      y   R-squared:                       0.046\n",
      "Model:                            OLS   Adj. R-squared:                  0.046\n",
      "Method:                 Least Squares   F-statistic:                     2.032\n",
      "Date:                Sun, 14 Nov 2021   Prob (F-statistic):              0.160\n",
      "Time:                        10:12:05   Log-Likelihood:                -78551.\n",
      "No. Observations:               65685   AIC:                         1.571e+05\n",
      "Df Residuals:                   65683   BIC:                         1.571e+05\n",
      "Df Model:                           1                                         \n",
      "Covariance Type:              cluster                                         \n",
      "==============================================================================\n",
      "                 coef    std err          z      P>|z|      [0.025      0.975]\n",
      "------------------------------------------------------------------------------\n",
      "Intercept      0.0427      0.182      0.235      0.814      -0.314       0.399\n",
      "fp[T.True]    -0.3593      0.252     -1.425      0.154      -0.853       0.135\n",
      "==============================================================================\n",
      "Omnibus:                     4559.348   Durbin-Watson:                   0.128\n",
      "Prob(Omnibus):                  0.000   Jarque-Bera (JB):             1704.352\n",
      "Skew:                           0.124   Prob(JB):                         0.00\n",
      "Kurtosis:                       2.251   Cond. No.                         2.90\n",
      "==============================================================================\n",
      "\n",
      "Notes:\n",
      "[1] Standard Errors are robust to cluster correlation (cluster)\n"
     ]
    }
   ],
   "source": [
    "# here is an example of clusetered errors \n",
    "rho=0.8\n",
    "data['u'] = np.random.normal(size=len(data))\n",
    "data['v'] = data.groupby('statefip')['u'].transform(lambda x : (1-rho)*x.to_numpy() + rho*np.random.normal(size=1))\n",
    "\n",
    "data['y'] =  data.v\n",
    "results = smf.ols('y ~ fp', data=data).fit(cov_type='cluster',cov_kwds={\"groups\":data['statefip']})\n",
    "print(results.summary())"
   ]
  },
  {
   "cell_type": "code",
   "execution_count": 16,
   "metadata": {
    "ExecuteTime": {
     "end_time": "2021-09-20T17:03:39.292178Z",
     "start_time": "2021-09-20T17:03:38.207Z"
    }
   },
   "outputs": [
    {
     "name": "stdout",
     "output_type": "stream",
     "text": [
      "                            OLS Regression Results                            \n",
      "==============================================================================\n",
      "Dep. Variable:                      y   R-squared:                       0.002\n",
      "Model:                            OLS   Adj. R-squared:                  0.002\n",
      "Method:                 Least Squares   F-statistic:                     157.1\n",
      "Date:                Sun, 14 Nov 2021   Prob (F-statistic):           5.32e-36\n",
      "Time:                        10:12:05   Log-Likelihood:                -75824.\n",
      "No. Observations:               65685   AIC:                         1.517e+05\n",
      "Df Residuals:                   65683   BIC:                         1.517e+05\n",
      "Df Model:                           1                                         \n",
      "Covariance Type:            nonrobust                                         \n",
      "==============================================================================\n",
      "                 coef    std err          t      P>|t|      [0.025      0.975]\n",
      "------------------------------------------------------------------------------\n",
      "Intercept     -0.0335      0.005     -7.138      0.000      -0.043      -0.024\n",
      "fp[T.True]     0.0764      0.006     12.534      0.000       0.064       0.088\n",
      "==============================================================================\n",
      "Omnibus:                      280.394   Durbin-Watson:                   0.137\n",
      "Prob(Omnibus):                  0.000   Jarque-Bera (JB):              213.203\n",
      "Skew:                          -0.039   Prob(JB):                     5.05e-47\n",
      "Kurtosis:                       2.732   Cond. No.                         2.90\n",
      "==============================================================================\n",
      "\n",
      "Notes:\n",
      "[1] Standard Errors assume that the covariance matrix of the errors is correctly specified.\n"
     ]
    }
   ],
   "source": [
    "# and here the regression without clustered standard errors\n",
    "rho=0.8\n",
    "data['u'] = np.random.normal(size=len(data))\n",
    "data['v'] = data.groupby('statefip')['u'].transform(lambda x : (1-rho)*x.to_numpy() + rho*np.random.normal(size=1))\n",
    "\n",
    "data['y'] =  data.v\n",
    "results = smf.ols('y ~ fp', data=data).fit()\n",
    "print(results.summary())"
   ]
  },
  {
   "cell_type": "code",
   "execution_count": null,
   "metadata": {},
   "outputs": [],
   "source": []
  }
 ],
 "metadata": {
  "kernelspec": {
   "display_name": "Python [conda env:envs] *",
   "language": "python",
   "name": "conda-env-envs-py"
  },
  "language_info": {
   "codemirror_mode": {
    "name": "ipython",
    "version": 3
   },
   "file_extension": ".py",
   "mimetype": "text/x-python",
   "name": "python",
   "nbconvert_exporter": "python",
   "pygments_lexer": "ipython3",
   "version": "3.9.7"
  },
  "toc": {
   "base_numbering": 1,
   "nav_menu": {},
   "number_sections": true,
   "sideBar": true,
   "skip_h1_title": false,
   "title_cell": "Table of Contents",
   "title_sidebar": "Contents",
   "toc_cell": false,
   "toc_position": {},
   "toc_section_display": true,
   "toc_window_display": false
  },
  "varInspector": {
   "cols": {
    "lenName": 16,
    "lenType": 16,
    "lenVar": 40
   },
   "kernels_config": {
    "python": {
     "delete_cmd_postfix": "",
     "delete_cmd_prefix": "del ",
     "library": "var_list.py",
     "varRefreshCmd": "print(var_dic_list())"
    },
    "r": {
     "delete_cmd_postfix": ") ",
     "delete_cmd_prefix": "rm(",
     "library": "var_list.r",
     "varRefreshCmd": "cat(var_dic_list()) "
    }
   },
   "types_to_exclude": [
    "module",
    "function",
    "builtin_function_or_method",
    "instance",
    "_Feature"
   ],
   "window_display": false
  }
 },
 "nbformat": 4,
 "nbformat_minor": 4
}
